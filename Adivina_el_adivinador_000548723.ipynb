{
  "nbformat": 4,
  "nbformat_minor": 0,
  "metadata": {
    "colab": {
      "provenance": [],
      "authorship_tag": "ABX9TyNbYF4X/TXtIpQy9kdpy4I0",
      "include_colab_link": true
    },
    "kernelspec": {
      "name": "python3",
      "display_name": "Python 3"
    },
    "language_info": {
      "name": "python"
    }
  },
  "cells": [
    {
      "cell_type": "markdown",
      "metadata": {
        "id": "view-in-github",
        "colab_type": "text"
      },
      "source": [
        "<a href=\"https://colab.research.google.com/github/LuisMiguelSG/Evaluaci-n-La-adivinanza-/blob/main/Adivina_el_adivinador_000548723.ipynb\" target=\"_parent\"><img src=\"https://colab.research.google.com/assets/colab-badge.svg\" alt=\"Open In Colab\"/></a>"
      ]
    },
    {
      "cell_type": "markdown",
      "source": [
        "# Juego recreativo en base de la adivinanza\n",
        "\n",
        "Fecha: *15 de Abril de 2024*\n",
        "\n",
        "Presentado por: *Luis Miguel Sierra Gomezcasseres*\n",
        "\n",
        "Email: luis.sierragc@upb.edu.co"
      ],
      "metadata": {
        "id": "lF0IN2ZMwUbn"
      }
    },
    {
      "cell_type": "code",
      "execution_count": null,
      "metadata": {
        "id": "3wWf1NCq8Ssa"
      },
      "outputs": [],
      "source": [
        "from string import ascii_lowercase, digits\n",
        "from random import choice, shuffle\n",
        "from time import sleep\n",
        "from IPython.display import clear_output\n",
        "\n",
        "def generate_board(size):\n",
        "  tablero = list(ascii_lowercase + digits + \"@#$\")\n",
        "  shuffle(tablero)\n",
        "  return [[choice(tablero) for _ in range(size)] for _ in range(size)]\n",
        "def show_board(board):\n",
        "  print(\"\\n\".join(\" \".join(row) for row in board))\n",
        "def hide_value(board, value):\n",
        "  for row in board:\n",
        "    if value in row:\n",
        "      row[row.index(value)] = \"*\"\n",
        "      break\n",
        "def reveal_value(board, value):\n",
        "  for row in board:\n",
        "    if \"*\" in row:\n",
        "      row[row.index(\"*\")] = value\n",
        "def time(size):\n",
        "  return size ** 2 - 1\n",
        "def play_game():\n",
        "  size = int(input(\"Tamaño lado por lado: \"))\n",
        "  board = generate_board(size)\n",
        "  print(\"Adivina el adivinador\")\n",
        "  show_board(board)\n",
        "  time_limit = time(size)\n",
        "  sleep(time_limit)\n",
        "  clear_output(wait=True)\n",
        "  hidden_value = choice(board[0])\n",
        "  hide_value(board, hidden_value)\n",
        "  show_board(board)\n",
        "  print()\n",
        "  solution = input(\"Adivina el valor oculto: \")\n",
        "  reveal_value(board, hidden_value)\n",
        "  print(\"¡Congratulations!, encontraste al adivino, \" if solution == hidden_value else f\"Suerte para la proxima. El valor era {hidden_value}.\")\n",
        "def main():\n",
        "  while True:\n",
        "    play_game()\n",
        "    if input(\"¿Play Again? (s/n): \").lower() != \"s\":\n",
        "      break\n",
        "if __name__ == \"__main__\":\n",
        "  main()"
      ]
    }
  ]
}